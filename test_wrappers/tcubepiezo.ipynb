{
 "cells": [
  {
   "cell_type": "code",
   "execution_count": 1,
   "metadata": {},
   "outputs": [],
   "source": [
    "%load_ext autoreload\n",
    "%autoreload 2\n",
    "\n",
    "from tlk import tcubepiezo"
   ]
  },
  {
   "cell_type": "code",
   "execution_count": 4,
   "metadata": {},
   "outputs": [],
   "source": [
    "tcubepiezo.build_device_list()\n",
    "sn = 81859722\n",
    "tcubepiezo.open_device(sn)\n",
    "assert tcubepiezo.check_connection(sn)\n",
    "tcubepiezo.close_device(sn)\n",
    "assert not tcubepiezo.check_connection(sn)\n",
    "tcubepiezo.open_device(sn)\n"
   ]
  },
  {
   "cell_type": "code",
   "execution_count": 6,
   "metadata": {},
   "outputs": [],
   "source": [
    "tcubepiezo.clear_message_queue(sn)"
   ]
  },
  {
   "cell_type": "code",
   "execution_count": 31,
   "metadata": {},
   "outputs": [
    {
     "name": "stdout",
     "output_type": "stream",
     "text": [
      "750\n",
      "5\n",
      "None\n",
      "5\n"
     ]
    }
   ],
   "source": [
    "print(tcubepiezo.get_max_output_voltage(sn))\n",
    "print(tcubepiezo.get_output_voltage(sn))\n",
    "print(tcubepiezo.set_output_voltage(sn, 0))\n",
    "print(tcubepiezo.get_output_voltage(sn))\n"
   ]
  },
  {
   "cell_type": "code",
   "execution_count": 14,
   "metadata": {},
   "outputs": [
    {
     "data": {
      "text/plain": [
       "(c_short(0), c_short(0))"
      ]
     },
     "execution_count": 14,
     "metadata": {},
     "output_type": "execute_result"
    }
   ],
   "source": [
    "tcubepiezo.get_feedback_loop_pi_consts(sn)"
   ]
  },
  {
   "cell_type": "code",
   "execution_count": null,
   "metadata": {},
   "outputs": [],
   "source": []
  }
 ],
 "metadata": {
  "kernelspec": {
   "display_name": ".venv",
   "language": "python",
   "name": "python3"
  },
  "language_info": {
   "codemirror_mode": {
    "name": "ipython",
    "version": 3
   },
   "file_extension": ".py",
   "mimetype": "text/x-python",
   "name": "python",
   "nbconvert_exporter": "python",
   "pygments_lexer": "ipython3",
   "version": "3.12.4"
  }
 },
 "nbformat": 4,
 "nbformat_minor": 2
}
