{
 "cells": [
  {
   "cell_type": "code",
   "execution_count": 1,
   "metadata": {},
   "outputs": [],
   "source": [
    "%load_ext autoreload\n",
    "%autoreload 2\n",
    "\n",
    "from pyscan_tlk.tcubepiezo import *\n",
    "from pyscan_tlk import KinesisException\n",
    "from ctypes import c_char_p\n",
    "from time import sleep"
   ]
  },
  {
   "cell_type": "code",
   "execution_count": 10,
   "metadata": {},
   "outputs": [
    {
     "data": {
      "text/plain": [
       "0"
      ]
     },
     "execution_count": 10,
     "metadata": {},
     "output_type": "execute_result"
    }
   ],
   "source": [
    "output = TLI_BuildDeviceList()\n",
    "if output != 0:\n",
    "    KinesisException(output)\n",
    "\n",
    "TLI_InitializeSimulations()\n",
    "sn = c_char_p(bytes(str(81000001), \"utf-8\"))\n",
    "\n",
    "output = PCC_Open(sn)\n",
    "if output != 0:\n",
    "    KinesisException(output)\n",
    "\n",
    "assert PCC_CheckConnection(sn)\n",
    "\n",
    "PCC_Close(sn)\n",
    "\n",
    "assert not PCC_CheckConnection(sn)\n",
    "\n",
    "output = PCC_Open(sn)\n",
    "if output != 0:\n",
    "    KinesisException(output)\n"
   ]
  },
  {
   "cell_type": "code",
   "execution_count": 11,
   "metadata": {},
   "outputs": [
    {
     "data": {
      "text/plain": [
       "131073"
      ]
     },
     "execution_count": 11,
     "metadata": {},
     "output_type": "execute_result"
    }
   ],
   "source": [
    "PCC_GetFirmwareVersion(sn)"
   ]
  },
  {
   "cell_type": "code",
   "execution_count": 12,
   "metadata": {},
   "outputs": [
    {
     "data": {
      "text/plain": [
       "327680"
      ]
     },
     "execution_count": 12,
     "metadata": {},
     "output_type": "execute_result"
    }
   ],
   "source": [
    "PCC_GetSoftwareVersion(sn)"
   ]
  },
  {
   "cell_type": "code",
   "execution_count": 13,
   "metadata": {},
   "outputs": [],
   "source": [
    "PCC_ClearMessageQueue(sn)"
   ]
  },
  {
   "cell_type": "code",
   "execution_count": 36,
   "metadata": {},
   "outputs": [
    {
     "name": "stdout",
     "output_type": "stream",
     "text": [
      "750\n",
      "0\n",
      "100\n"
     ]
    }
   ],
   "source": [
    "print(PCC_GetMaxOutputVoltage(sn))\n",
    "print(PCC_GetOutputVoltage(sn))\n",
    "output = PCC_SetOutputVoltage(sn, 100)\n",
    "if output != 0:\n",
    "    KinesisException(output)\n",
    "\n",
    "sleep(0.05)\n",
    "print(PCC_GetOutputVoltage(sn))\n",
    "#"
   ]
  },
  {
   "cell_type": "code",
   "execution_count": 38,
   "metadata": {},
   "outputs": [
    {
     "data": {
      "text/plain": [
       "1"
      ]
     },
     "execution_count": 38,
     "metadata": {},
     "output_type": "execute_result"
    }
   ],
   "source": [
    "PCC_GetPositionControlMode(sn)\n"
   ]
  },
  {
   "cell_type": "code",
   "execution_count": null,
   "metadata": {},
   "outputs": [],
   "source": []
  }
 ],
 "metadata": {
  "kernelspec": {
   "display_name": ".venv",
   "language": "python",
   "name": "python3"
  },
  "language_info": {
   "codemirror_mode": {
    "name": "ipython",
    "version": 3
   },
   "file_extension": ".py",
   "mimetype": "text/x-python",
   "name": "python",
   "nbconvert_exporter": "python",
   "pygments_lexer": "ipython3",
   "version": "3.12.4"
  }
 },
 "nbformat": 4,
 "nbformat_minor": 2
}
